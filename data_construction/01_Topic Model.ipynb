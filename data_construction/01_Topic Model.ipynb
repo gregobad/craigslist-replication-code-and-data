{
 "cells": [
  {
   "cell_type": "code",
   "execution_count": 1,
   "metadata": {
    "ExecuteTime": {
     "end_time": "2019-06-16T17:08:54.624069Z",
     "start_time": "2019-06-16T17:08:53.585374Z"
    }
   },
   "outputs": [],
   "source": [
    "import re\n",
    "import numpy as np\n",
    "import pandas as pd\n",
    "from pprint import pprint\n",
    "import numpy as np\n",
    "import matplotlib.pyplot as plt\n",
    "\n",
    "\n",
    "# Gensim\n",
    "import gensim\n",
    "import gensim.corpora as corpora\n",
    "from gensim.utils import simple_preprocess\n",
    "from gensim.models import CoherenceModel\n",
    "from gensim.models import TfidfModel\n",
    "from gensim.parsing.porter import PorterStemmer\n",
    "\n",
    "\n",
    "# spacy for lemmatization\n",
    "import spacy\n",
    "\n",
    "# Plotting tools\n",
    "import matplotlib.pyplot as plt\n",
    "%matplotlib inline\n",
    "\n",
    "# Enable logging for gensim - optional\n",
    "import logging\n",
    "logging.basicConfig(format='%(asctime)s : %(levelname)s : %(message)s', level=logging.ERROR)\n",
    "\n",
    "import warnings\n",
    "warnings.filterwarnings(\"ignore\",category=DeprecationWarning)"
   ]
  },
  {
   "cell_type": "code",
   "execution_count": 2,
   "metadata": {
    "ExecuteTime": {
     "end_time": "2019-06-16T17:08:54.930055Z",
     "start_time": "2019-06-16T17:08:54.625940Z"
    }
   },
   "outputs": [],
   "source": [
    "import nltk#; nltk.download('stopwords')\n",
    "#nltk.data.path.append('C:/Users/Milena/AppData/Roaming/nltk_data')\n",
    "\n",
    "from nltk.corpus import stopwords\n",
    "stop_words = stopwords.words('english')\n",
    "\n",
    "\n",
    "nlp = spacy.load('en_core_web_sm', disable=['parser', 'ner'])"
   ]
  },
  {
   "cell_type": "markdown",
   "metadata": {},
   "source": [
    "### Read in all text"
   ]
  },
  {
   "cell_type": "code",
   "execution_count": null,
   "metadata": {
    "ExecuteTime": {
     "end_time": "2019-06-16T17:12:22.930474Z",
     "start_time": "2019-06-16T17:10:47.924503Z"
    }
   },
   "outputs": [
    {
     "name": "stderr",
     "output_type": "stream",
     "text": [
      "C:\\Users\\mdjou\\AppData\\Local\\Temp\\ipykernel_19336\\1718532052.py:10: FutureWarning: The frame.append method is deprecated and will be removed from pandas in a future version. Use pandas.concat instead.\n",
      "  df = df.append(df_,ignore_index=True)\n",
      "C:\\Users\\mdjou\\AppData\\Local\\Temp\\ipykernel_19336\\1718532052.py:10: FutureWarning: The frame.append method is deprecated and will be removed from pandas in a future version. Use pandas.concat instead.\n",
      "  df = df.append(df_,ignore_index=True)\n",
      "C:\\Users\\mdjou\\AppData\\Local\\Temp\\ipykernel_19336\\1718532052.py:10: FutureWarning: The frame.append method is deprecated and will be removed from pandas in a future version. Use pandas.concat instead.\n",
      "  df = df.append(df_,ignore_index=True)\n",
      "C:\\Users\\mdjou\\AppData\\Local\\Temp\\ipykernel_19336\\1718532052.py:10: FutureWarning: The frame.append method is deprecated and will be removed from pandas in a future version. Use pandas.concat instead.\n",
      "  df = df.append(df_,ignore_index=True)\n",
      "C:\\Users\\mdjou\\AppData\\Local\\Temp\\ipykernel_19336\\1718532052.py:10: FutureWarning: The frame.append method is deprecated and will be removed from pandas in a future version. Use pandas.concat instead.\n",
      "  df = df.append(df_,ignore_index=True)\n",
      "C:\\Users\\mdjou\\AppData\\Local\\Temp\\ipykernel_19336\\1718532052.py:10: FutureWarning: The frame.append method is deprecated and will be removed from pandas in a future version. Use pandas.concat instead.\n",
      "  df = df.append(df_,ignore_index=True)\n",
      "C:\\Users\\mdjou\\AppData\\Local\\Temp\\ipykernel_19336\\1718532052.py:10: FutureWarning: The frame.append method is deprecated and will be removed from pandas in a future version. Use pandas.concat instead.\n",
      "  df = df.append(df_,ignore_index=True)\n",
      "C:\\Users\\mdjou\\AppData\\Local\\Temp\\ipykernel_19336\\1718532052.py:10: FutureWarning: The frame.append method is deprecated and will be removed from pandas in a future version. Use pandas.concat instead.\n",
      "  df = df.append(df_,ignore_index=True)\n",
      "C:\\Users\\mdjou\\AppData\\Local\\Temp\\ipykernel_19336\\1718532052.py:10: FutureWarning: The frame.append method is deprecated and will be removed from pandas in a future version. Use pandas.concat instead.\n",
      "  df = df.append(df_,ignore_index=True)\n",
      "C:\\Users\\mdjou\\AppData\\Local\\Temp\\ipykernel_19336\\1718532052.py:10: FutureWarning: The frame.append method is deprecated and will be removed from pandas in a future version. Use pandas.concat instead.\n",
      "  df = df.append(df_,ignore_index=True)\n",
      "C:\\Users\\mdjou\\AppData\\Local\\Temp\\ipykernel_19336\\1718532052.py:10: FutureWarning: The frame.append method is deprecated and will be removed from pandas in a future version. Use pandas.concat instead.\n",
      "  df = df.append(df_,ignore_index=True)\n",
      "C:\\Users\\mdjou\\AppData\\Local\\Temp\\ipykernel_19336\\1718532052.py:10: FutureWarning: The frame.append method is deprecated and will be removed from pandas in a future version. Use pandas.concat instead.\n",
      "  df = df.append(df_,ignore_index=True)\n",
      "C:\\Users\\mdjou\\AppData\\Local\\Temp\\ipykernel_19336\\1718532052.py:10: FutureWarning: The frame.append method is deprecated and will be removed from pandas in a future version. Use pandas.concat instead.\n",
      "  df = df.append(df_,ignore_index=True)\n",
      "C:\\Users\\mdjou\\AppData\\Local\\Temp\\ipykernel_19336\\1718532052.py:10: FutureWarning: The frame.append method is deprecated and will be removed from pandas in a future version. Use pandas.concat instead.\n",
      "  df = df.append(df_,ignore_index=True)\n",
      "C:\\Users\\mdjou\\AppData\\Local\\Temp\\ipykernel_19336\\1718532052.py:10: FutureWarning: The frame.append method is deprecated and will be removed from pandas in a future version. Use pandas.concat instead.\n",
      "  df = df.append(df_,ignore_index=True)\n",
      "C:\\Users\\mdjou\\AppData\\Local\\Temp\\ipykernel_19336\\1718532052.py:10: FutureWarning: The frame.append method is deprecated and will be removed from pandas in a future version. Use pandas.concat instead.\n",
      "  df = df.append(df_,ignore_index=True)\n",
      "C:\\Users\\mdjou\\AppData\\Local\\Temp\\ipykernel_19336\\1718532052.py:10: FutureWarning: The frame.append method is deprecated and will be removed from pandas in a future version. Use pandas.concat instead.\n",
      "  df = df.append(df_,ignore_index=True)\n",
      "C:\\Users\\mdjou\\AppData\\Local\\Temp\\ipykernel_19336\\1718532052.py:10: FutureWarning: The frame.append method is deprecated and will be removed from pandas in a future version. Use pandas.concat instead.\n",
      "  df = df.append(df_,ignore_index=True)\n",
      "C:\\Users\\mdjou\\AppData\\Local\\Temp\\ipykernel_19336\\1718532052.py:10: FutureWarning: The frame.append method is deprecated and will be removed from pandas in a future version. Use pandas.concat instead.\n",
      "  df = df.append(df_,ignore_index=True)\n",
      "C:\\Users\\mdjou\\AppData\\Local\\Temp\\ipykernel_19336\\1718532052.py:10: FutureWarning: The frame.append method is deprecated and will be removed from pandas in a future version. Use pandas.concat instead.\n",
      "  df = df.append(df_,ignore_index=True)\n",
      "C:\\Users\\mdjou\\AppData\\Local\\Temp\\ipykernel_19336\\1718532052.py:10: FutureWarning: The frame.append method is deprecated and will be removed from pandas in a future version. Use pandas.concat instead.\n",
      "  df = df.append(df_,ignore_index=True)\n",
      "C:\\Users\\mdjou\\AppData\\Local\\Temp\\ipykernel_19336\\1718532052.py:10: FutureWarning: The frame.append method is deprecated and will be removed from pandas in a future version. Use pandas.concat instead.\n",
      "  df = df.append(df_,ignore_index=True)\n",
      "C:\\Users\\mdjou\\AppData\\Local\\Temp\\ipykernel_19336\\1718532052.py:10: FutureWarning: The frame.append method is deprecated and will be removed from pandas in a future version. Use pandas.concat instead.\n",
      "  df = df.append(df_,ignore_index=True)\n",
      "C:\\Users\\mdjou\\AppData\\Local\\Temp\\ipykernel_19336\\1718532052.py:10: FutureWarning: The frame.append method is deprecated and will be removed from pandas in a future version. Use pandas.concat instead.\n",
      "  df = df.append(df_,ignore_index=True)\n",
      "C:\\Users\\mdjou\\AppData\\Local\\Temp\\ipykernel_19336\\1718532052.py:10: FutureWarning: The frame.append method is deprecated and will be removed from pandas in a future version. Use pandas.concat instead.\n",
      "  df = df.append(df_,ignore_index=True)\n",
      "C:\\Users\\mdjou\\AppData\\Local\\Temp\\ipykernel_19336\\1718532052.py:10: FutureWarning: The frame.append method is deprecated and will be removed from pandas in a future version. Use pandas.concat instead.\n",
      "  df = df.append(df_,ignore_index=True)\n",
      "C:\\Users\\mdjou\\AppData\\Local\\Temp\\ipykernel_19336\\1718532052.py:10: FutureWarning: The frame.append method is deprecated and will be removed from pandas in a future version. Use pandas.concat instead.\n",
      "  df = df.append(df_,ignore_index=True)\n",
      "C:\\Users\\mdjou\\AppData\\Local\\Temp\\ipykernel_19336\\1718532052.py:10: FutureWarning: The frame.append method is deprecated and will be removed from pandas in a future version. Use pandas.concat instead.\n",
      "  df = df.append(df_,ignore_index=True)\n",
      "C:\\Users\\mdjou\\AppData\\Local\\Temp\\ipykernel_19336\\1718532052.py:10: FutureWarning: The frame.append method is deprecated and will be removed from pandas in a future version. Use pandas.concat instead.\n",
      "  df = df.append(df_,ignore_index=True)\n",
      "C:\\Users\\mdjou\\AppData\\Local\\Temp\\ipykernel_19336\\1718532052.py:10: FutureWarning: The frame.append method is deprecated and will be removed from pandas in a future version. Use pandas.concat instead.\n",
      "  df = df.append(df_,ignore_index=True)\n",
      "C:\\Users\\mdjou\\AppData\\Local\\Temp\\ipykernel_19336\\1718532052.py:10: FutureWarning: The frame.append method is deprecated and will be removed from pandas in a future version. Use pandas.concat instead.\n",
      "  df = df.append(df_,ignore_index=True)\n",
      "C:\\Users\\mdjou\\AppData\\Local\\Temp\\ipykernel_19336\\1718532052.py:10: FutureWarning: The frame.append method is deprecated and will be removed from pandas in a future version. Use pandas.concat instead.\n",
      "  df = df.append(df_,ignore_index=True)\n",
      "C:\\Users\\mdjou\\AppData\\Local\\Temp\\ipykernel_19336\\1718532052.py:10: FutureWarning: The frame.append method is deprecated and will be removed from pandas in a future version. Use pandas.concat instead.\n",
      "  df = df.append(df_,ignore_index=True)\n",
      "C:\\Users\\mdjou\\AppData\\Local\\Temp\\ipykernel_19336\\1718532052.py:10: FutureWarning: The frame.append method is deprecated and will be removed from pandas in a future version. Use pandas.concat instead.\n",
      "  df = df.append(df_,ignore_index=True)\n"
     ]
    },
    {
     "name": "stderr",
     "output_type": "stream",
     "text": [
      "C:\\Users\\mdjou\\AppData\\Local\\Temp\\ipykernel_19336\\1718532052.py:10: FutureWarning: The frame.append method is deprecated and will be removed from pandas in a future version. Use pandas.concat instead.\n",
      "  df = df.append(df_,ignore_index=True)\n",
      "C:\\Users\\mdjou\\AppData\\Local\\Temp\\ipykernel_19336\\1718532052.py:10: FutureWarning: The frame.append method is deprecated and will be removed from pandas in a future version. Use pandas.concat instead.\n",
      "  df = df.append(df_,ignore_index=True)\n",
      "C:\\Users\\mdjou\\AppData\\Local\\Temp\\ipykernel_19336\\1718532052.py:10: FutureWarning: The frame.append method is deprecated and will be removed from pandas in a future version. Use pandas.concat instead.\n",
      "  df = df.append(df_,ignore_index=True)\n",
      "C:\\Users\\mdjou\\AppData\\Local\\Temp\\ipykernel_19336\\1718532052.py:10: FutureWarning: The frame.append method is deprecated and will be removed from pandas in a future version. Use pandas.concat instead.\n",
      "  df = df.append(df_,ignore_index=True)\n",
      "C:\\Users\\mdjou\\AppData\\Local\\Temp\\ipykernel_19336\\1718532052.py:10: FutureWarning: The frame.append method is deprecated and will be removed from pandas in a future version. Use pandas.concat instead.\n",
      "  df = df.append(df_,ignore_index=True)\n",
      "C:\\Users\\mdjou\\AppData\\Local\\Temp\\ipykernel_19336\\1718532052.py:10: FutureWarning: The frame.append method is deprecated and will be removed from pandas in a future version. Use pandas.concat instead.\n",
      "  df = df.append(df_,ignore_index=True)\n",
      "C:\\Users\\mdjou\\AppData\\Local\\Temp\\ipykernel_19336\\1718532052.py:10: FutureWarning: The frame.append method is deprecated and will be removed from pandas in a future version. Use pandas.concat instead.\n",
      "  df = df.append(df_,ignore_index=True)\n",
      "C:\\Users\\mdjou\\AppData\\Local\\Temp\\ipykernel_19336\\1718532052.py:10: FutureWarning: The frame.append method is deprecated and will be removed from pandas in a future version. Use pandas.concat instead.\n",
      "  df = df.append(df_,ignore_index=True)\n",
      "C:\\Users\\mdjou\\AppData\\Local\\Temp\\ipykernel_19336\\1718532052.py:10: FutureWarning: The frame.append method is deprecated and will be removed from pandas in a future version. Use pandas.concat instead.\n",
      "  df = df.append(df_,ignore_index=True)\n",
      "C:\\Users\\mdjou\\AppData\\Local\\Temp\\ipykernel_19336\\1718532052.py:10: FutureWarning: The frame.append method is deprecated and will be removed from pandas in a future version. Use pandas.concat instead.\n",
      "  df = df.append(df_,ignore_index=True)\n",
      "C:\\Users\\mdjou\\AppData\\Local\\Temp\\ipykernel_19336\\1718532052.py:10: FutureWarning: The frame.append method is deprecated and will be removed from pandas in a future version. Use pandas.concat instead.\n",
      "  df = df.append(df_,ignore_index=True)\n",
      "C:\\Users\\mdjou\\AppData\\Local\\Temp\\ipykernel_19336\\1718532052.py:10: FutureWarning: The frame.append method is deprecated and will be removed from pandas in a future version. Use pandas.concat instead.\n",
      "  df = df.append(df_,ignore_index=True)\n",
      "C:\\Users\\mdjou\\AppData\\Local\\Temp\\ipykernel_19336\\1718532052.py:10: FutureWarning: The frame.append method is deprecated and will be removed from pandas in a future version. Use pandas.concat instead.\n",
      "  df = df.append(df_,ignore_index=True)\n",
      "C:\\Users\\mdjou\\AppData\\Local\\Temp\\ipykernel_19336\\1718532052.py:10: FutureWarning: The frame.append method is deprecated and will be removed from pandas in a future version. Use pandas.concat instead.\n",
      "  df = df.append(df_,ignore_index=True)\n",
      "C:\\Users\\mdjou\\AppData\\Local\\Temp\\ipykernel_19336\\1718532052.py:10: FutureWarning: The frame.append method is deprecated and will be removed from pandas in a future version. Use pandas.concat instead.\n",
      "  df = df.append(df_,ignore_index=True)\n",
      "C:\\Users\\mdjou\\AppData\\Local\\Temp\\ipykernel_19336\\1718532052.py:10: FutureWarning: The frame.append method is deprecated and will be removed from pandas in a future version. Use pandas.concat instead.\n",
      "  df = df.append(df_,ignore_index=True)\n",
      "C:\\Users\\mdjou\\AppData\\Local\\Temp\\ipykernel_19336\\1718532052.py:10: FutureWarning: The frame.append method is deprecated and will be removed from pandas in a future version. Use pandas.concat instead.\n",
      "  df = df.append(df_,ignore_index=True)\n",
      "C:\\Users\\mdjou\\AppData\\Local\\Temp\\ipykernel_19336\\1718532052.py:10: FutureWarning: The frame.append method is deprecated and will be removed from pandas in a future version. Use pandas.concat instead.\n",
      "  df = df.append(df_,ignore_index=True)\n",
      "C:\\Users\\mdjou\\AppData\\Local\\Temp\\ipykernel_19336\\1718532052.py:10: FutureWarning: The frame.append method is deprecated and will be removed from pandas in a future version. Use pandas.concat instead.\n",
      "  df = df.append(df_,ignore_index=True)\n",
      "C:\\Users\\mdjou\\AppData\\Local\\Temp\\ipykernel_19336\\1718532052.py:10: FutureWarning: The frame.append method is deprecated and will be removed from pandas in a future version. Use pandas.concat instead.\n",
      "  df = df.append(df_,ignore_index=True)\n",
      "C:\\Users\\mdjou\\AppData\\Local\\Temp\\ipykernel_19336\\1718532052.py:10: FutureWarning: The frame.append method is deprecated and will be removed from pandas in a future version. Use pandas.concat instead.\n",
      "  df = df.append(df_,ignore_index=True)\n",
      "C:\\Users\\mdjou\\AppData\\Local\\Temp\\ipykernel_19336\\1718532052.py:10: FutureWarning: The frame.append method is deprecated and will be removed from pandas in a future version. Use pandas.concat instead.\n",
      "  df = df.append(df_,ignore_index=True)\n",
      "C:\\Users\\mdjou\\AppData\\Local\\Temp\\ipykernel_19336\\1718532052.py:10: FutureWarning: The frame.append method is deprecated and will be removed from pandas in a future version. Use pandas.concat instead.\n",
      "  df = df.append(df_,ignore_index=True)\n",
      "C:\\Users\\mdjou\\AppData\\Local\\Temp\\ipykernel_19336\\1718532052.py:10: FutureWarning: The frame.append method is deprecated and will be removed from pandas in a future version. Use pandas.concat instead.\n",
      "  df = df.append(df_,ignore_index=True)\n"
     ]
    }
   ],
   "source": [
    "import glob\n",
    "\n",
    "path = \"C:/Users/mdjou/OneDrive/Desktop/craigslist-replication-code-and-data/data/Newspapers_content/Topic_Model/Sample_dates/clean_text/__*.xlsx\"\n",
    "\n",
    "glob.glob(path)\n",
    "\n",
    "df = pd.DataFrame()\n",
    "for f in glob.glob(path):\n",
    "    df_ = pd.read_excel(f)\n",
    "    df = df.append(df_,ignore_index=True)\n"
   ]
  },
  {
   "cell_type": "code",
   "execution_count": null,
   "metadata": {
    "ExecuteTime": {
     "end_time": "2019-06-16T17:12:34.871482Z",
     "start_time": "2019-06-16T17:12:34.866200Z"
    }
   },
   "outputs": [],
   "source": [
    "df.head()\n",
    "print(len(df))"
   ]
  },
  {
   "cell_type": "code",
   "execution_count": null,
   "metadata": {},
   "outputs": [],
   "source": [
    "df.text = df.alltext\n",
    "df.text = df.text.astype(str)"
   ]
  },
  {
   "cell_type": "markdown",
   "metadata": {},
   "source": [
    "### Pre-process the text: remove punctuation, stop words, stem"
   ]
  },
  {
   "cell_type": "code",
   "execution_count": null,
   "metadata": {},
   "outputs": [],
   "source": [
    "longlist = pd.read_csv('C:/Users/mdjou/OneDrive/Desktop/craigslist-replication-code-and-data/data/Newspapers_content/Topic_Model/__very_long_stopwords.txt', header=None)\n",
    "addlist  = pd.read_csv('C:/Users/mdjou/OneDrive/Desktop/craigslist-replication-code-and-data/data/Newspapers_content/Topic_Model/__additional_stopwords.txt', header=None)\n",
    "longlist = longlist[0].tolist()\n",
    "addlist  =  addlist[0].tolist()"
   ]
  },
  {
   "cell_type": "code",
   "execution_count": null,
   "metadata": {},
   "outputs": [],
   "source": [
    "stop_words = stop_words+longlist+addlist\n",
    "print(len(stop_words))"
   ]
  },
  {
   "cell_type": "code",
   "execution_count": null,
   "metadata": {},
   "outputs": [],
   "source": [
    "def sent_to_words(sentences):\n",
    "    output = []\n",
    "    for sentence in sentences:\n",
    "        output.append(simple_preprocess(sentence))  # deacc=True removes punctuations\n",
    "    return output\n",
    "\n",
    "def remove_stopwords(texts):\n",
    "    output = []\n",
    "    for text in texts:\n",
    "        output.append([w for w in text if w not in stop_words])\n",
    "    return output\n"
   ]
  },
  {
   "cell_type": "code",
   "execution_count": null,
   "metadata": {
    "ExecuteTime": {
     "end_time": "2019-06-16T19:05:38.975064Z",
     "start_time": "2019-06-16T17:12:35.092828Z"
    }
   },
   "outputs": [],
   "source": [
    "data = sent_to_words(df.alltext)\n",
    "\n",
    "data = remove_stopwords(data)\n",
    "\n",
    "data = [PorterStemmer().stem_documents(text) for text in data]"
   ]
  },
  {
   "cell_type": "code",
   "execution_count": null,
   "metadata": {},
   "outputs": [],
   "source": [
    "data[1:10]"
   ]
  },
  {
   "cell_type": "markdown",
   "metadata": {},
   "source": [
    "### Construct corpus, filter extremes"
   ]
  },
  {
   "cell_type": "code",
   "execution_count": null,
   "metadata": {},
   "outputs": [],
   "source": [
    "### define corpus\n",
    "\n",
    "id2word = corpora.Dictionary(data)\n",
    "\n",
    "print('Number of unique tokens before trim: %d' % len(set(id2word)))\n",
    "\n",
    "#### Use filter_extremes to keep words encountered in at least 200 documents / no more than 20% of the total sample\n",
    "id2word.filter_extremes(no_below=200, no_above=0.2)\n",
    "\n",
    "print('Number of unique tokens after trim: %d' % len(set(id2word)))\n",
    "\n",
    "corpus = [id2word.doc2bow(text) for text in data]\n"
   ]
  },
  {
   "cell_type": "code",
   "execution_count": null,
   "metadata": {
    "ExecuteTime": {
     "end_time": "2019-06-16T19:07:38.847957Z",
     "start_time": "2019-06-16T19:07:27.116127Z"
    },
    "scrolled": true
   },
   "outputs": [],
   "source": [
    "corpus_new = [id2word.doc2bow(text) for text in data]"
   ]
  },
  {
   "cell_type": "code",
   "execution_count": null,
   "metadata": {},
   "outputs": [],
   "source": [
    "doc_word = gensim.matutils.corpus2csc(corpus_new)\n",
    "doc_word = doc_word.transpose()\n",
    "doc_word.shape"
   ]
  },
  {
   "cell_type": "code",
   "execution_count": null,
   "metadata": {},
   "outputs": [],
   "source": [
    "words = list(id2word.token2id.keys())"
   ]
  },
  {
   "cell_type": "markdown",
   "metadata": {},
   "source": [
    "# CorEx model: No anchoring"
   ]
  },
  {
   "cell_type": "code",
   "execution_count": null,
   "metadata": {},
   "outputs": [],
   "source": [
    "from corextopic import corextopic as ct\n",
    "\n",
    "corex_model = ct.Corex(n_hidden=5, words=words, max_iter=200, verbose=False, seed=42)\n",
    "corex_model.fit(doc_word, words=words)"
   ]
  },
  {
   "cell_type": "code",
   "execution_count": null,
   "metadata": {},
   "outputs": [],
   "source": [
    "# Print topics\n",
    "topics = corex_model.get_topics()\n",
    "for n,topic in enumerate(topics):\n",
    "    topic_words, x, y = zip(*topic)\n",
    "    print('{}: '.format(n) + ','.join(topic_words))"
   ]
  },
  {
   "cell_type": "code",
   "execution_count": null,
   "metadata": {},
   "outputs": [],
   "source": [
    "top_docs = corex_model.get_top_docs()\n",
    "#for topic_n, topic_docs in enumerate(top_docs):\n",
    "#    docs,probs = zip(*topic_docs)\n",
    "#    topic_str = str(topic_n+1)+': '+', '.join(docs)\n",
    "#   print(topic_str)\n",
    "print(top_docs[1])"
   ]
  },
  {
   "cell_type": "code",
   "execution_count": null,
   "metadata": {},
   "outputs": [],
   "source": [
    "topics = corex_model.p_y_given_x\n",
    "print(len(topics[:,4])) # n_docs x k_topics\n",
    "print(topics)"
   ]
  },
  {
   "cell_type": "code",
   "execution_count": null,
   "metadata": {},
   "outputs": [],
   "source": [
    "df = pd.DataFrame({\n",
    " 'year'       : df['year'],\n",
    " 'source'     : df['source'],\n",
    " 'topic0'     : topics[:,0],\n",
    " 'topic1'     : topics[:,1],\n",
    " 'topic2'     : topics[:,2],\n",
    " 'topic3'     : topics[:,3],\n",
    " 'topic4'     : topics[:,4]\n",
    " #'topic5'     : topics[:,5],\n",
    " #'topic6'     : topics[:,6],\n",
    " #'topic7'     : topics[:,7],\n",
    " #'topic8'     : topics[:,8],\n",
    " #'topic9'     : topics[:,9] \n",
    " })\n",
    "\n",
    "\n",
    "print(df)\n",
    "print(len(df.year))"
   ]
  },
  {
   "cell_type": "code",
   "execution_count": null,
   "metadata": {},
   "outputs": [],
   "source": [
    "avg_topics = pd.DataFrame(df.groupby(['source', 'year']).agg(['mean'])[['topic0', 'topic1', 'topic2', 'topic3', 'topic4']].reset_index())\n",
    "avg_topics.to_excel('C:/Users/mdjou/OneDrive/Desktop/craigslist-replication-code-and-data/data/Newspapers_content/Topic_Model/avg_topic_prob_unanchored_by_newspaper_year.xlsx')"
   ]
  },
  {
   "cell_type": "code",
   "execution_count": null,
   "metadata": {},
   "outputs": [],
   "source": [
    "labels = corex_model.labels\n",
    "print(len(labels[:,9])) # n_docs x k_topics\n",
    "print(labels[:,0])"
   ]
  },
  {
   "cell_type": "markdown",
   "metadata": {},
   "source": [
    "## Corex with Anchoring -- Anchors for 4 political topics"
   ]
  },
  {
   "cell_type": "code",
   "execution_count": null,
   "metadata": {},
   "outputs": [],
   "source": [
    "\n",
    "corex_model.fit(doc_word, \n",
    "                words=words, \n",
    "                anchors=[['washington', 'feder', 'govern', 'presid'], \n",
    "                         ['council', 'mayor'],\n",
    "                         ['repres', 'congress', 'senat'],\n",
    "                         ['intern', 'abroad', 'foreign']],\n",
    "                     anchor_strength=2)"
   ]
  },
  {
   "cell_type": "code",
   "execution_count": null,
   "metadata": {},
   "outputs": [],
   "source": [
    "# Print topics\n",
    "\n",
    "topics = corex_model.get_topics()\n",
    "\n",
    "for n,topic in enumerate(topics):\n",
    "    topic_words, x, y = zip(*topic)\n",
    "    print('{}: '.format(n) + ','.join(topic_words))"
   ]
  },
  {
   "cell_type": "markdown",
   "metadata": {},
   "source": [
    "### Extract topic probabilities by article"
   ]
  },
  {
   "cell_type": "code",
   "execution_count": null,
   "metadata": {},
   "outputs": [],
   "source": [
    "topics = corex_model.p_y_given_x\n",
    "print(len(topics[:,9])) # n_docs x k_topics\n",
    "print(topics)"
   ]
  },
  {
   "cell_type": "markdown",
   "metadata": {},
   "source": [
    "### Collapse by newspaper and export"
   ]
  },
  {
   "cell_type": "code",
   "execution_count": null,
   "metadata": {},
   "outputs": [],
   "source": [
    "df = pd.DataFrame({\n",
    " 'year'       : df['year'],\n",
    " 'source'     : df['source'],\n",
    " 'topic0'     : topics[:,0],\n",
    " 'topic1'     : topics[:,1],\n",
    " 'topic2'     : topics[:,2],\n",
    " 'topic3'     : topics[:,3],\n",
    " 'topic4'     : topics[:,4],\n",
    " 'topic5'     : topics[:,5],\n",
    " 'topic6'     : topics[:,6],\n",
    " 'topic7'     : topics[:,7],\n",
    " 'topic8'     : topics[:,8],\n",
    " 'topic9'     : topics[:,9] \n",
    " })\n",
    "\n",
    "\n",
    "print(df)\n",
    "print(len(df.year))"
   ]
  },
  {
   "cell_type": "markdown",
   "metadata": {},
   "source": [
    "### Export collapsed dataset: average topic probabilities by newspaper and year"
   ]
  },
  {
   "cell_type": "code",
   "execution_count": null,
   "metadata": {},
   "outputs": [],
   "source": [
    "avg_topics = pd.DataFrame(df.groupby(['source', 'year']).agg(['mean'])[['topic0', 'topic1', 'topic2', 'topic3', 'topic4', 'topic5', 'topic6', 'topic7', 'topic8', 'topic9']].reset_index())\n",
    "avg_topics.to_excel('C:/Users/mdjou/OneDrive/Desktop/craigslist-replication-code-and-data/data/Newspapers_content/Topic_Model/avg_topic_prob_by_newspaper_year.xlsx') "
   ]
  }
 ],
 "metadata": {
  "kernelspec": {
   "display_name": "Python 3 (ipykernel)",
   "language": "python",
   "name": "python3"
  },
  "language_info": {
   "codemirror_mode": {
    "name": "ipython",
    "version": 3
   },
   "file_extension": ".py",
   "mimetype": "text/x-python",
   "name": "python",
   "nbconvert_exporter": "python",
   "pygments_lexer": "ipython3",
   "version": "3.9.12"
  },
  "latex_envs": {
   "LaTeX_envs_menu_present": true,
   "autoclose": false,
   "autocomplete": true,
   "bibliofile": "biblio.bib",
   "cite_by": "apalike",
   "current_citInitial": 1,
   "eqLabelWithNumbers": true,
   "eqNumInitial": 1,
   "hotkeys": {
    "equation": "Ctrl-E",
    "itemize": "Ctrl-I"
   },
   "labels_anchors": false,
   "latex_user_defs": false,
   "report_style_numbering": false,
   "user_envs_cfg": false
  },
  "toc": {
   "base_numbering": 1,
   "nav_menu": {},
   "number_sections": true,
   "sideBar": true,
   "skip_h1_title": false,
   "title_cell": "Table of Contents",
   "title_sidebar": "Contents",
   "toc_cell": false,
   "toc_position": {},
   "toc_section_display": true,
   "toc_window_display": false
  },
  "varInspector": {
   "cols": {
    "lenName": 16,
    "lenType": 16,
    "lenVar": 40
   },
   "kernels_config": {
    "python": {
     "delete_cmd_postfix": "",
     "delete_cmd_prefix": "del ",
     "library": "var_list.py",
     "varRefreshCmd": "print(var_dic_list())"
    },
    "r": {
     "delete_cmd_postfix": ") ",
     "delete_cmd_prefix": "rm(",
     "library": "var_list.r",
     "varRefreshCmd": "cat(var_dic_list()) "
    }
   },
   "types_to_exclude": [
    "module",
    "function",
    "builtin_function_or_method",
    "instance",
    "_Feature"
   ],
   "window_display": false
  }
 },
 "nbformat": 4,
 "nbformat_minor": 2
}
